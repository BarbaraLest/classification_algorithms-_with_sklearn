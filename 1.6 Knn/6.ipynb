{
 "cells": [
  {
   "cell_type": "code",
   "execution_count": 11,
   "id": "9a94c284",
   "metadata": {},
   "outputs": [],
   "source": [
    "import pandas as pd\n",
    "import numpy as np\n",
    "from sklearn.model_selection import train_test_split\n",
    "from sklearn.metrics import accuracy_score\n",
    "from sklearn.neighbors import KNeighborsClassifier"
   ]
  },
  {
   "cell_type": "code",
   "execution_count": 12,
   "id": "b8b54153",
   "metadata": {},
   "outputs": [
    {
     "data": {
      "text/html": [
       "<div>\n",
       "<style scoped>\n",
       "    .dataframe tbody tr th:only-of-type {\n",
       "        vertical-align: middle;\n",
       "    }\n",
       "\n",
       "    .dataframe tbody tr th {\n",
       "        vertical-align: top;\n",
       "    }\n",
       "\n",
       "    .dataframe thead th {\n",
       "        text-align: right;\n",
       "    }\n",
       "</style>\n",
       "<table border=\"1\" class=\"dataframe\">\n",
       "  <thead>\n",
       "    <tr style=\"text-align: right;\">\n",
       "      <th></th>\n",
       "      <th>id</th>\n",
       "      <th>'RI'</th>\n",
       "      <th>'Na'</th>\n",
       "      <th>'Mg'</th>\n",
       "      <th>'Al'</th>\n",
       "      <th>'Si'</th>\n",
       "      <th>'K'</th>\n",
       "      <th>'Ca'</th>\n",
       "      <th>'Ba'</th>\n",
       "      <th>'Fe'</th>\n",
       "      <th>'Type'</th>\n",
       "    </tr>\n",
       "  </thead>\n",
       "  <tbody>\n",
       "    <tr>\n",
       "      <th>0</th>\n",
       "      <td>1</td>\n",
       "      <td>1.51793</td>\n",
       "      <td>12.79</td>\n",
       "      <td>3.50</td>\n",
       "      <td>1.12</td>\n",
       "      <td>73.03</td>\n",
       "      <td>0.64</td>\n",
       "      <td>8.77</td>\n",
       "      <td>0.0</td>\n",
       "      <td>0.00</td>\n",
       "      <td>build wind float</td>\n",
       "    </tr>\n",
       "    <tr>\n",
       "      <th>1</th>\n",
       "      <td>2</td>\n",
       "      <td>1.51643</td>\n",
       "      <td>12.16</td>\n",
       "      <td>3.52</td>\n",
       "      <td>1.35</td>\n",
       "      <td>72.89</td>\n",
       "      <td>0.57</td>\n",
       "      <td>8.53</td>\n",
       "      <td>0.0</td>\n",
       "      <td>0.00</td>\n",
       "      <td>vehic wind float</td>\n",
       "    </tr>\n",
       "    <tr>\n",
       "      <th>2</th>\n",
       "      <td>3</td>\n",
       "      <td>1.51793</td>\n",
       "      <td>13.21</td>\n",
       "      <td>3.48</td>\n",
       "      <td>1.41</td>\n",
       "      <td>72.64</td>\n",
       "      <td>0.59</td>\n",
       "      <td>8.43</td>\n",
       "      <td>0.0</td>\n",
       "      <td>0.00</td>\n",
       "      <td>build wind float</td>\n",
       "    </tr>\n",
       "    <tr>\n",
       "      <th>3</th>\n",
       "      <td>4</td>\n",
       "      <td>1.51299</td>\n",
       "      <td>14.40</td>\n",
       "      <td>1.74</td>\n",
       "      <td>1.54</td>\n",
       "      <td>74.55</td>\n",
       "      <td>0.00</td>\n",
       "      <td>7.59</td>\n",
       "      <td>0.0</td>\n",
       "      <td>0.00</td>\n",
       "      <td>tableware</td>\n",
       "    </tr>\n",
       "    <tr>\n",
       "      <th>4</th>\n",
       "      <td>5</td>\n",
       "      <td>1.53393</td>\n",
       "      <td>12.30</td>\n",
       "      <td>0.00</td>\n",
       "      <td>1.00</td>\n",
       "      <td>70.16</td>\n",
       "      <td>0.12</td>\n",
       "      <td>16.19</td>\n",
       "      <td>0.0</td>\n",
       "      <td>0.24</td>\n",
       "      <td>build wind non-float</td>\n",
       "    </tr>\n",
       "  </tbody>\n",
       "</table>\n",
       "</div>"
      ],
      "text/plain": [
       "   id     'RI'   'Na'  'Mg'  'Al'   'Si'   'K'   'Ca'  'Ba'  'Fe'  \\\n",
       "0   1  1.51793  12.79  3.50  1.12  73.03  0.64   8.77   0.0  0.00   \n",
       "1   2  1.51643  12.16  3.52  1.35  72.89  0.57   8.53   0.0  0.00   \n",
       "2   3  1.51793  13.21  3.48  1.41  72.64  0.59   8.43   0.0  0.00   \n",
       "3   4  1.51299  14.40  1.74  1.54  74.55  0.00   7.59   0.0  0.00   \n",
       "4   5  1.53393  12.30  0.00  1.00  70.16  0.12  16.19   0.0  0.24   \n",
       "\n",
       "                 'Type'  \n",
       "0      build wind float  \n",
       "1      vehic wind float  \n",
       "2      build wind float  \n",
       "3             tableware  \n",
       "4  build wind non-float  "
      ]
     },
     "execution_count": 12,
     "metadata": {},
     "output_type": "execute_result"
    }
   ],
   "source": [
    "df = pd.read_csv('./glass.csv')\n",
    "df.head()"
   ]
  },
  {
   "cell_type": "code",
   "execution_count": 13,
   "id": "2c77c948",
   "metadata": {},
   "outputs": [
    {
     "data": {
      "text/plain": [
       "array(['build wind float', 'vehic wind float', 'tableware',\n",
       "       'build wind non-float', 'headlamps', 'containers'], dtype=object)"
      ]
     },
     "execution_count": 13,
     "metadata": {},
     "output_type": "execute_result"
    }
   ],
   "source": [
    "df[\"'Type'\"].unique()"
   ]
  },
  {
   "cell_type": "code",
   "execution_count": 14,
   "id": "d44a0ba5",
   "metadata": {},
   "outputs": [
    {
     "data": {
      "text/html": [
       "<div>\n",
       "<style scoped>\n",
       "    .dataframe tbody tr th:only-of-type {\n",
       "        vertical-align: middle;\n",
       "    }\n",
       "\n",
       "    .dataframe tbody tr th {\n",
       "        vertical-align: top;\n",
       "    }\n",
       "\n",
       "    .dataframe thead th {\n",
       "        text-align: right;\n",
       "    }\n",
       "</style>\n",
       "<table border=\"1\" class=\"dataframe\">\n",
       "  <thead>\n",
       "    <tr style=\"text-align: right;\">\n",
       "      <th></th>\n",
       "      <th>id</th>\n",
       "      <th>'RI'</th>\n",
       "      <th>'Na'</th>\n",
       "      <th>'Mg'</th>\n",
       "      <th>'Al'</th>\n",
       "      <th>'Si'</th>\n",
       "      <th>'K'</th>\n",
       "      <th>'Ca'</th>\n",
       "      <th>'Ba'</th>\n",
       "      <th>'Fe'</th>\n",
       "      <th>'Type'</th>\n",
       "    </tr>\n",
       "  </thead>\n",
       "  <tbody>\n",
       "    <tr>\n",
       "      <th>0</th>\n",
       "      <td>1</td>\n",
       "      <td>1.51793</td>\n",
       "      <td>12.79</td>\n",
       "      <td>3.50</td>\n",
       "      <td>1.12</td>\n",
       "      <td>73.03</td>\n",
       "      <td>0.64</td>\n",
       "      <td>8.77</td>\n",
       "      <td>0.0</td>\n",
       "      <td>0.00</td>\n",
       "      <td>1</td>\n",
       "    </tr>\n",
       "    <tr>\n",
       "      <th>1</th>\n",
       "      <td>2</td>\n",
       "      <td>1.51643</td>\n",
       "      <td>12.16</td>\n",
       "      <td>3.52</td>\n",
       "      <td>1.35</td>\n",
       "      <td>72.89</td>\n",
       "      <td>0.57</td>\n",
       "      <td>8.53</td>\n",
       "      <td>0.0</td>\n",
       "      <td>0.00</td>\n",
       "      <td>2</td>\n",
       "    </tr>\n",
       "    <tr>\n",
       "      <th>2</th>\n",
       "      <td>3</td>\n",
       "      <td>1.51793</td>\n",
       "      <td>13.21</td>\n",
       "      <td>3.48</td>\n",
       "      <td>1.41</td>\n",
       "      <td>72.64</td>\n",
       "      <td>0.59</td>\n",
       "      <td>8.43</td>\n",
       "      <td>0.0</td>\n",
       "      <td>0.00</td>\n",
       "      <td>1</td>\n",
       "    </tr>\n",
       "    <tr>\n",
       "      <th>3</th>\n",
       "      <td>4</td>\n",
       "      <td>1.51299</td>\n",
       "      <td>14.40</td>\n",
       "      <td>1.74</td>\n",
       "      <td>1.54</td>\n",
       "      <td>74.55</td>\n",
       "      <td>0.00</td>\n",
       "      <td>7.59</td>\n",
       "      <td>0.0</td>\n",
       "      <td>0.00</td>\n",
       "      <td>3</td>\n",
       "    </tr>\n",
       "    <tr>\n",
       "      <th>4</th>\n",
       "      <td>5</td>\n",
       "      <td>1.53393</td>\n",
       "      <td>12.30</td>\n",
       "      <td>0.00</td>\n",
       "      <td>1.00</td>\n",
       "      <td>70.16</td>\n",
       "      <td>0.12</td>\n",
       "      <td>16.19</td>\n",
       "      <td>0.0</td>\n",
       "      <td>0.24</td>\n",
       "      <td>4</td>\n",
       "    </tr>\n",
       "  </tbody>\n",
       "</table>\n",
       "</div>"
      ],
      "text/plain": [
       "   id     'RI'   'Na'  'Mg'  'Al'   'Si'   'K'   'Ca'  'Ba'  'Fe' 'Type'\n",
       "0   1  1.51793  12.79  3.50  1.12  73.03  0.64   8.77   0.0  0.00      1\n",
       "1   2  1.51643  12.16  3.52  1.35  72.89  0.57   8.53   0.0  0.00      2\n",
       "2   3  1.51793  13.21  3.48  1.41  72.64  0.59   8.43   0.0  0.00      1\n",
       "3   4  1.51299  14.40  1.74  1.54  74.55  0.00   7.59   0.0  0.00      3\n",
       "4   5  1.53393  12.30  0.00  1.00  70.16  0.12  16.19   0.0  0.24      4"
      ]
     },
     "execution_count": 14,
     "metadata": {},
     "output_type": "execute_result"
    }
   ],
   "source": [
    "df.replace({'build wind float': '1', 'vehic wind float': '2',  'tableware': '3', 'build wind non-float': '4', 'headlampst': '5', 'containers': '6', }, inplace = True, regex = True)\n",
    "df.head()"
   ]
  },
  {
   "cell_type": "code",
   "execution_count": 15,
   "id": "d4d15fe6",
   "metadata": {},
   "outputs": [],
   "source": [
    "x = df.values[:, 1:10]\n",
    "y = df.values[:, 10]"
   ]
  },
  {
   "cell_type": "code",
   "execution_count": 16,
   "id": "10e23a34",
   "metadata": {},
   "outputs": [],
   "source": [
    "X_train, X_test, y_train, y_test = train_test_split(x, y, test_size = 0.3, random_state = 100)"
   ]
  },
  {
   "cell_type": "code",
   "execution_count": 17,
   "id": "adf9f07a",
   "metadata": {},
   "outputs": [],
   "source": [
    "clf = KNeighborsClassifier(p=3)"
   ]
  },
  {
   "cell_type": "code",
   "execution_count": 18,
   "id": "e2d438e6",
   "metadata": {},
   "outputs": [
    {
     "data": {
      "text/plain": [
       "KNeighborsClassifier(p=3)"
      ]
     },
     "execution_count": 18,
     "metadata": {},
     "output_type": "execute_result"
    }
   ],
   "source": [
    "clf.fit(X_train, y_train)"
   ]
  },
  {
   "cell_type": "code",
   "execution_count": 19,
   "id": "c8876903",
   "metadata": {},
   "outputs": [],
   "source": [
    "yprediction = clf.predict(X_test)"
   ]
  },
  {
   "cell_type": "code",
   "execution_count": 20,
   "id": "70f80002",
   "metadata": {},
   "outputs": [
    {
     "name": "stdout",
     "output_type": "stream",
     "text": [
      "Resultado previsto:\n",
      " ['4' '4' '1' '4' '1' '1' '6' 'headlamps' '4' '1' '4' '1' '1' '1' '1' '4'\n",
      " '1' '1' '1' '1' '1' '6' '1' '3' '1' '1' '4' '1' '1' '1' 'headlamps' '4'\n",
      " '4' '1' 'headlamps' '1' '4' '1' '3' '4' '4' 'headlamps' '4' 'headlamps'\n",
      " '3' '4' 'headlamps' '4' '4' '1' 'headlamps' '1' '1' '1' '1' '1' '1' '1'\n",
      " 'headlamps' '4' 'headlamps' '1' '4' '1' '3'] \n",
      "\n",
      "Resultado atual:\n",
      " ['headlamps' '6' '4' '6' '1' '1' 'headlamps' 'headlamps' '4' '4' '4' '1'\n",
      " '1' '1' '1' '6' '4' '4' '1' '1' '4' '6' '4' '3' '1' '1' '4' '2' '1' '4'\n",
      " 'headlamps' '1' '4' '1' 'headlamps' '4' '4' '1' '4' '1' 'headlamps'\n",
      " 'headlamps' '4' '3' '4' '4' '3' '1' '4' '1' 'headlamps' '1' 'headlamps'\n",
      " '1' '1' '1' '1' '4' 'headlamps' '4' 'headlamps' '2' '4' '1' '4'] \n",
      "\n",
      "Precisão do modelo de árvore de decisão ID3 para estes dados:  60.0\n"
     ]
    }
   ],
   "source": [
    "print('Resultado previsto:\\n', yprediction, '\\n')\n",
    "print('Resultado atual:\\n', y_test, '\\n')\n",
    "print('Precisão do modelo de árvore de decisão ID3 para estes dados: ', accuracy_score(y_test, yprediction)*100)"
   ]
  },
  {
   "cell_type": "code",
   "execution_count": null,
   "id": "7d0c81f5",
   "metadata": {},
   "outputs": [],
   "source": []
  },
  {
   "cell_type": "code",
   "execution_count": null,
   "id": "b1dfd31c",
   "metadata": {},
   "outputs": [],
   "source": []
  },
  {
   "cell_type": "code",
   "execution_count": null,
   "id": "3a93bf70",
   "metadata": {},
   "outputs": [],
   "source": []
  }
 ],
 "metadata": {
  "kernelspec": {
   "display_name": "Python 3 (ipykernel)",
   "language": "python",
   "name": "python3"
  },
  "language_info": {
   "codemirror_mode": {
    "name": "ipython",
    "version": 3
   },
   "file_extension": ".py",
   "mimetype": "text/x-python",
   "name": "python",
   "nbconvert_exporter": "python",
   "pygments_lexer": "ipython3",
   "version": "3.9.4"
  }
 },
 "nbformat": 4,
 "nbformat_minor": 5
}
