{
 "cells": [
  {
   "cell_type": "code",
   "execution_count": 20,
   "id": "7d105be5",
   "metadata": {},
   "outputs": [],
   "source": [
    "import pandas as pd\n",
    "import numpy as np\n",
    "from sklearn.model_selection import train_test_split\n",
    "from sklearn.metrics import make_scorer\n",
    "from sklearn.linear_model import LinearRegression "
   ]
  },
  {
   "cell_type": "code",
   "execution_count": 21,
   "id": "9ecebed6",
   "metadata": {},
   "outputs": [
    {
     "data": {
      "text/html": [
       "<div>\n",
       "<style scoped>\n",
       "    .dataframe tbody tr th:only-of-type {\n",
       "        vertical-align: middle;\n",
       "    }\n",
       "\n",
       "    .dataframe tbody tr th {\n",
       "        vertical-align: top;\n",
       "    }\n",
       "\n",
       "    .dataframe thead th {\n",
       "        text-align: right;\n",
       "    }\n",
       "</style>\n",
       "<table border=\"1\" class=\"dataframe\">\n",
       "  <thead>\n",
       "    <tr style=\"text-align: right;\">\n",
       "      <th></th>\n",
       "      <th>id</th>\n",
       "      <th>MYCT</th>\n",
       "      <th>MMIN</th>\n",
       "      <th>MMAX</th>\n",
       "      <th>CACH</th>\n",
       "      <th>CHMIN</th>\n",
       "      <th>CHMAX</th>\n",
       "      <th>class</th>\n",
       "    </tr>\n",
       "  </thead>\n",
       "  <tbody>\n",
       "    <tr>\n",
       "      <th>0</th>\n",
       "      <td>1</td>\n",
       "      <td>125</td>\n",
       "      <td>256</td>\n",
       "      <td>6000</td>\n",
       "      <td>256</td>\n",
       "      <td>16</td>\n",
       "      <td>128</td>\n",
       "      <td>198</td>\n",
       "    </tr>\n",
       "    <tr>\n",
       "      <th>1</th>\n",
       "      <td>2</td>\n",
       "      <td>29</td>\n",
       "      <td>8000</td>\n",
       "      <td>32000</td>\n",
       "      <td>32</td>\n",
       "      <td>8</td>\n",
       "      <td>32</td>\n",
       "      <td>269</td>\n",
       "    </tr>\n",
       "    <tr>\n",
       "      <th>2</th>\n",
       "      <td>3</td>\n",
       "      <td>29</td>\n",
       "      <td>8000</td>\n",
       "      <td>32000</td>\n",
       "      <td>32</td>\n",
       "      <td>8</td>\n",
       "      <td>32</td>\n",
       "      <td>220</td>\n",
       "    </tr>\n",
       "    <tr>\n",
       "      <th>3</th>\n",
       "      <td>4</td>\n",
       "      <td>29</td>\n",
       "      <td>8000</td>\n",
       "      <td>32000</td>\n",
       "      <td>32</td>\n",
       "      <td>8</td>\n",
       "      <td>32</td>\n",
       "      <td>172</td>\n",
       "    </tr>\n",
       "    <tr>\n",
       "      <th>4</th>\n",
       "      <td>5</td>\n",
       "      <td>29</td>\n",
       "      <td>8000</td>\n",
       "      <td>16000</td>\n",
       "      <td>32</td>\n",
       "      <td>8</td>\n",
       "      <td>16</td>\n",
       "      <td>132</td>\n",
       "    </tr>\n",
       "  </tbody>\n",
       "</table>\n",
       "</div>"
      ],
      "text/plain": [
       "   id  MYCT  MMIN   MMAX  CACH  CHMIN  CHMAX  class\n",
       "0   1   125   256   6000   256     16    128    198\n",
       "1   2    29  8000  32000    32      8     32    269\n",
       "2   3    29  8000  32000    32      8     32    220\n",
       "3   4    29  8000  32000    32      8     32    172\n",
       "4   5    29  8000  16000    32      8     16    132"
      ]
     },
     "execution_count": 21,
     "metadata": {},
     "output_type": "execute_result"
    }
   ],
   "source": [
    "df = pd.read_csv('./cpu.csv')\n",
    "df.head()"
   ]
  },
  {
   "cell_type": "code",
   "execution_count": 22,
   "id": "2dd13200",
   "metadata": {},
   "outputs": [],
   "source": [
    "x = df.values[:, 1:7]\n",
    "y = df.values[:, 7]"
   ]
  },
  {
   "cell_type": "code",
   "execution_count": 23,
   "id": "c20e3b19",
   "metadata": {},
   "outputs": [],
   "source": [
    "X_train, X_test, y_train, y_test = train_test_split(x, y, test_size = 0.3, random_state = 100)"
   ]
  },
  {
   "cell_type": "code",
   "execution_count": 24,
   "id": "3a124693",
   "metadata": {},
   "outputs": [],
   "source": [
    "clf = LinearRegression()"
   ]
  },
  {
   "cell_type": "code",
   "execution_count": 25,
   "id": "bfacef24",
   "metadata": {},
   "outputs": [
    {
     "data": {
      "text/plain": [
       "LinearRegression()"
      ]
     },
     "execution_count": 25,
     "metadata": {},
     "output_type": "execute_result"
    }
   ],
   "source": [
    "clf.fit(X_train, y_train)"
   ]
  },
  {
   "cell_type": "code",
   "execution_count": 26,
   "id": "ebe6347d",
   "metadata": {},
   "outputs": [
    {
     "data": {
      "text/plain": [
       "6.2034592959179005"
      ]
     },
     "execution_count": 26,
     "metadata": {},
     "output_type": "execute_result"
    }
   ],
   "source": [
    "y_predict = clf.predict(X_test)\n",
    "def my_custom_loss_func(Y_test, y_predict):\n",
    "     diff = np.abs(y_test - y_predict).max()\n",
    "     return np.log1p(diff)\n",
    "score = make_scorer(my_custom_loss_func, greater_is_better=False)\n",
    "my_custom_loss_func(y_test, y_predict)\n"
   ]
  },
  {
   "cell_type": "code",
   "execution_count": 27,
   "id": "0ec95ba0",
   "metadata": {},
   "outputs": [
    {
     "name": "stdout",
     "output_type": "stream",
     "text": [
      "Resultado previsto:\n",
      " [ 1.16888573e+02  2.55083089e+02  3.34668318e+01  6.71629387e+01\n",
      " -8.62761972e+00  1.40909037e+02  9.61684628e+01  1.93243572e+01\n",
      " -1.04994026e+01  3.69733440e+02  1.23323110e+02  3.60919478e+01\n",
      "  4.05604369e+01  8.44760179e+01  2.31269635e+01  8.60131809e+01\n",
      "  6.56543442e+02  5.53897257e-03  1.72058589e+02  5.07458228e+01\n",
      " -1.56123735e+01  1.54697839e+01  9.24730034e+01  1.26744639e+02\n",
      "  4.00074423e+00  4.09649540e+01  2.19421226e+02  3.69401643e+01\n",
      "  3.89107963e+00  6.93115059e-01  1.51194951e+02  8.51735891e+01\n",
      "  2.95543001e+01  1.04334055e+02 -1.02313724e+01  1.19226311e+02\n",
      "  1.04448399e+02  3.15110083e+02 -2.24056206e+01  2.71204897e+01\n",
      "  6.97472109e+01  3.11069740e+02  9.26540391e+01  2.25829996e+01\n",
      "  1.01327075e+02  1.23626551e+01  7.53207719e+00  2.25005976e+02\n",
      "  1.38186971e+02  4.24321617e+01  7.08736706e+01  7.42167266e+01\n",
      "  3.07585773e+02 -6.13841313e+00  4.72002934e+02  7.54483529e+01\n",
      "  5.92837327e+01  7.86218677e+00  4.29889665e+00  4.00835878e+01\n",
      "  2.55918400e+01 -3.45710917e+00  6.95552113e+00] \n",
      "\n",
      "Resultado atual:\n",
      " [  46  173   20   38   11  144   42   27   18  405   51   32   24   40\n",
      "   44  368 1150   25  259   33    6   38   66  100   30   46  100   32\n",
      "   40   18   93   35   40   75   32  113   65  248    6   12   50  172\n",
      "   76   29   32   45   33  141  130   56  138   41  140   21  489   34\n",
      "   53   77   27   60   36   16   20] \n",
      "\n",
      "Precisão do modelo de árvore de decisão ID3 para estes dados:  6.2034592959179005\n"
     ]
    }
   ],
   "source": [
    "print('Resultado previsto:\\n', y_predict, '\\n')\n",
    "print('Resultado atual:\\n', y_test, '\\n')\n",
    "print('Precisão do modelo de árvore de decisão ID3 para estes dados: ', my_custom_loss_func(y_test, y_predict))"
   ]
  },
  {
   "cell_type": "code",
   "execution_count": null,
   "id": "90ad32ba",
   "metadata": {},
   "outputs": [],
   "source": []
  },
  {
   "cell_type": "code",
   "execution_count": null,
   "id": "08e928b8",
   "metadata": {},
   "outputs": [],
   "source": []
  },
  {
   "cell_type": "code",
   "execution_count": null,
   "id": "3526cbab",
   "metadata": {},
   "outputs": [],
   "source": []
  },
  {
   "cell_type": "code",
   "execution_count": null,
   "id": "5f0d9530",
   "metadata": {},
   "outputs": [],
   "source": []
  }
 ],
 "metadata": {
  "kernelspec": {
   "display_name": "Python 3 (ipykernel)",
   "language": "python",
   "name": "python3"
  },
  "language_info": {
   "codemirror_mode": {
    "name": "ipython",
    "version": 3
   },
   "file_extension": ".py",
   "mimetype": "text/x-python",
   "name": "python",
   "nbconvert_exporter": "python",
   "pygments_lexer": "ipython3",
   "version": "3.9.4"
  }
 },
 "nbformat": 4,
 "nbformat_minor": 5
}
